{
 "cells": [
  {
   "cell_type": "markdown",
   "id": "6afd06b9",
   "metadata": {},
   "source": [
    "***Task 1***"
   ]
  },
  {
   "cell_type": "code",
   "execution_count": null,
   "id": "280e4034",
   "metadata": {},
   "outputs": [],
   "source": [
    "hello_world = \"Hello, Python World!\"\n",
    "print(hello_world)"
   ]
  },
  {
   "cell_type": "markdown",
   "id": "af33049c",
   "metadata": {},
   "source": [
    "***Task 2***"
   ]
  },
  {
   "cell_type": "code",
   "execution_count": null,
   "id": "b54aa1cf",
   "metadata": {},
   "outputs": [],
   "source": [
    "number1 = int(input(\"Введіть перше ціле число: \\n\"))\n",
    "number2 = int(input(\"Введіть друге ціле число: \\n\"))\n",
    "\n",
    "addition = number1 + number2 \n",
    "subtraction = number1 - number2\n",
    "multiplication = number1 * number2\n",
    "division = number1 / number2\n",
    "\n",
    "print(addition)\n",
    "print(subtraction)\n",
    "print(multiplication)\n",
    "print(division)"
   ]
  },
  {
   "cell_type": "markdown",
   "id": "b751e21b",
   "metadata": {},
   "source": [
    "***Task 3***"
   ]
  },
  {
   "cell_type": "code",
   "execution_count": null,
   "id": "86106924",
   "metadata": {},
   "outputs": [],
   "source": [
    "line1 = \"Сьогодні погода\"\n",
    "line2 = \"є надзвичайно теплою\"\n",
    "\n",
    "phrase = f\"{line1} {line2}\"\n",
    "print(len(phrase))\n",
    "print(phrase)"
   ]
  },
  {
   "cell_type": "markdown",
   "id": "5828d5a5",
   "metadata": {},
   "source": [
    "***Task 4***"
   ]
  },
  {
   "cell_type": "code",
   "execution_count": null,
   "id": "b0fb7e1a",
   "metadata": {},
   "outputs": [],
   "source": [
    "number_task4 = int(input(\"Введіть число: \\n\"))\n",
    "if number_task4 % 2 == 0:\n",
    "    print(\"Парне\")\n",
    "else:\n",
    "    print(\"Непарне\")"
   ]
  },
  {
   "cell_type": "markdown",
   "id": "69fc4835",
   "metadata": {},
   "source": [
    "***Task 5***"
   ]
  },
  {
   "cell_type": "code",
   "execution_count": null,
   "id": "51b5f114",
   "metadata": {},
   "outputs": [],
   "source": [
    "for numbers_task5 in range(1, 11):\n",
    "    print(numbers_task5)"
   ]
  },
  {
   "cell_type": "markdown",
   "id": "07255f18",
   "metadata": {},
   "source": [
    "***Task 6***"
   ]
  },
  {
   "cell_type": "code",
   "execution_count": null,
   "id": "18cc4754",
   "metadata": {},
   "outputs": [],
   "source": [
    "num = int(input())\n",
    "if num > 0:\n",
    "    print(\"Позитивний\")\n",
    "elif num < 0:\n",
    "    print(\"Негативний\")\n",
    "else:\n",
    "    print(\"Нуль\")"
   ]
  },
  {
   "cell_type": "markdown",
   "id": "a221a306",
   "metadata": {},
   "source": [
    "***Task 7***"
   ]
  },
  {
   "cell_type": "code",
   "execution_count": null,
   "id": "ea13533e",
   "metadata": {},
   "outputs": [],
   "source": [
    "for numbers_task7 in range(1, 11):\n",
    "    if numbers_task7 % 2 == 0:\n",
    "        print(numbers_task7)"
   ]
  },
  {
   "cell_type": "markdown",
   "id": "f6c4a7d7",
   "metadata": {},
   "source": [
    "***Task 8***"
   ]
  },
  {
   "cell_type": "code",
   "execution_count": null,
   "id": "c49c5a5a",
   "metadata": {},
   "outputs": [],
   "source": [
    "sum_of_numbers = 0\n",
    "n = int(input())\n",
    "for numbers_task8 in range(1, n + 1):\n",
    "    sum_of_numbers += numbers_task8\n",
    "print(sum_of_numbers)"
   ]
  },
  {
   "cell_type": "markdown",
   "id": "9b523727",
   "metadata": {},
   "source": [
    "***Task 9***"
   ]
  },
  {
   "cell_type": "code",
   "execution_count": null,
   "id": "d9c8c2ff",
   "metadata": {},
   "outputs": [],
   "source": [
    "numbers_task9 = [1, 2, 3, 4, 5, 6, 7, 8, 9 ,10]\n",
    "for element in numbers_task9:\n",
    "    num = numbers_task9 [::-1]\n",
    "print(num)"
   ]
  },
  {
   "cell_type": "markdown",
   "id": "059f4c04",
   "metadata": {},
   "source": [
    "***Task 10***"
   ]
  },
  {
   "cell_type": "code",
   "execution_count": null,
   "id": "386a92a6",
   "metadata": {},
   "outputs": [],
   "source": [
    "for number_task10 in range(1, 11):\n",
    "    if number_task10 == 5:\n",
    "        continue\n",
    "    if number_task10 == 7:\n",
    "        break\n",
    "    print(number_task10)"
   ]
  }
 ],
 "metadata": {
  "kernelspec": {
   "display_name": "Python 3",
   "language": "python",
   "name": "python3"
  },
  "language_info": {
   "codemirror_mode": {
    "name": "ipython",
    "version": 3
   },
   "file_extension": ".py",
   "mimetype": "text/x-python",
   "name": "python",
   "nbconvert_exporter": "python",
   "pygments_lexer": "ipython3",
   "version": "3.13.3"
  }
 },
 "nbformat": 4,
 "nbformat_minor": 5
}
