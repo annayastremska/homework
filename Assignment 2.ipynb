{
 "cells": [
  {
   "cell_type": "code",
   "execution_count": null,
   "id": "280e4034",
   "metadata": {},
   "outputs": [
    {
     "name": "stdout",
     "output_type": "stream",
     "text": [
      "7\n",
      "3\n",
      "10\n",
      "2.5\n"
     ]
    }
   ],
   "source": [
    "hello_world = \"Hello, Python World!\""
   ]
  },
  {
   "cell_type": "code",
   "execution_count": null,
   "id": "b54aa1cf",
   "metadata": {},
   "outputs": [],
   "source": [
    "number1 = int(input(\"Введіть перше ціле число: \\n\"))\n",
    "number2 = int(input(\"Введіть друге ціле число: \\n\"))\n",
    "\n",
    "addition = number1 + number2 \n",
    "subtraction = number1 - number2\n",
    "multiplication = number1 * number2\n",
    "division = number1 / number2\n",
    "\n",
    "print(addition)\n",
    "print(subtraction)\n",
    "print(multiplication)\n",
    "print(division)"
   ]
  },
  {
   "cell_type": "code",
   "execution_count": 6,
   "id": "86106924",
   "metadata": {},
   "outputs": [
    {
     "name": "stdout",
     "output_type": "stream",
     "text": [
      "36\n",
      "Сьогодні погода є надзвичайно теплою\n"
     ]
    }
   ],
   "source": [
    "line1 = \"Сьогодні погода\"\n",
    "line2 = \"є надзвичайно теплою\"\n",
    "\n",
    "phrase = f\"{line1} {line2}\"\n",
    "print(len(phrase))\n",
    "print(phrase)"
   ]
  },
  {
   "cell_type": "code",
   "execution_count": 10,
   "id": "b0fb7e1a",
   "metadata": {},
   "outputs": [
    {
     "name": "stdout",
     "output_type": "stream",
     "text": [
      "Непарне\n"
     ]
    }
   ],
   "source": [
    "number = int(input(\"Введіть число: \\n\"))\n",
    "if number % 2 == 0:\n",
    "    print(\"Парне\")\n",
    "else:\n",
    "    print(\"Непарне\")"
   ]
  },
  {
   "cell_type": "code",
   "execution_count": null,
   "id": "51b5f114",
   "metadata": {},
   "outputs": [
    {
     "name": "stdout",
     "output_type": "stream",
     "text": [
      "1\n",
      "2\n",
      "3\n",
      "4\n",
      "5\n",
      "6\n",
      "7\n",
      "8\n",
      "9\n",
      "10\n"
     ]
    }
   ],
   "source": [
    "for numbers in range(1, 11):\n",
    "    print(numbers)"
   ]
  },
  {
   "cell_type": "code",
   "execution_count": 14,
   "id": "18cc4754",
   "metadata": {},
   "outputs": [
    {
     "name": "stdout",
     "output_type": "stream",
     "text": [
      "Нуль\n"
     ]
    }
   ],
   "source": [
    "num = int(input())\n",
    "if num > 0:\n",
    "    print(\"Позитивний\")\n",
    "elif num < 0:\n",
    "    print(\"Негативний\")\n",
    "else:\n",
    "    print(\"Нуль\")"
   ]
  },
  {
   "cell_type": "code",
   "execution_count": 18,
   "id": "ea13533e",
   "metadata": {},
   "outputs": [
    {
     "name": "stdout",
     "output_type": "stream",
     "text": [
      "2\n",
      "4\n",
      "6\n",
      "8\n",
      "10\n"
     ]
    }
   ],
   "source": [
    "for numbers in range(1, 11):\n",
    "    if numbers % 2 == 0:\n",
    "        print(numbers)"
   ]
  },
  {
   "cell_type": "code",
   "execution_count": 22,
   "id": "c49c5a5a",
   "metadata": {},
   "outputs": [
    {
     "name": "stdout",
     "output_type": "stream",
     "text": [
      "5050\n"
     ]
    }
   ],
   "source": [
    "sum_of_numbers = 0\n",
    "n = int(input())\n",
    "for numbers in range(1, n + 1):\n",
    "    sum_of_numbers += numbers\n",
    "print(sum_of_numbers)"
   ]
  },
  {
   "cell_type": "code",
   "execution_count": 2,
   "id": "d9c8c2ff",
   "metadata": {},
   "outputs": [
    {
     "name": "stdout",
     "output_type": "stream",
     "text": [
      "[10, 9, 8, 7, 6, 5, 4, 3, 2, 1]\n"
     ]
    }
   ],
   "source": [
    "numbers = [1, 2, 3, 4, 5, 6, 7, 8, 9 ,10]\n",
    "for element in numbers:\n",
    "    num = numbers [::-1]\n",
    "print(num)"
   ]
  },
  {
   "cell_type": "code",
   "execution_count": null,
   "id": "386a92a6",
   "metadata": {},
   "outputs": [
    {
     "name": "stdout",
     "output_type": "stream",
     "text": [
      "1\n",
      "2\n",
      "3\n",
      "4\n",
      "6\n"
     ]
    }
   ],
   "source": [
    "for number in range(1, 11):\n",
    "    if number == 5:\n",
    "        continue\n",
    "    if number == 7:\n",
    "        break\n",
    "    print(number)"
   ]
  }
 ],
 "metadata": {
  "kernelspec": {
   "display_name": "Python 3",
   "language": "python",
   "name": "python3"
  },
  "language_info": {
   "codemirror_mode": {
    "name": "ipython",
    "version": 3
   },
   "file_extension": ".py",
   "mimetype": "text/x-python",
   "name": "python",
   "nbconvert_exporter": "python",
   "pygments_lexer": "ipython3",
   "version": "3.13.3"
  }
 },
 "nbformat": 4,
 "nbformat_minor": 5
}
