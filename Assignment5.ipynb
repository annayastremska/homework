{
 "cells": [
  {
   "cell_type": "code",
   "execution_count": null,
   "id": "b18105fb",
   "metadata": {},
   "outputs": [
    {
     "data": {
      "text/html": [
       "<div>\n",
       "<style scoped>\n",
       "    .dataframe tbody tr th:only-of-type {\n",
       "        vertical-align: middle;\n",
       "    }\n",
       "\n",
       "    .dataframe tbody tr th {\n",
       "        vertical-align: top;\n",
       "    }\n",
       "\n",
       "    .dataframe thead th {\n",
       "        text-align: right;\n",
       "    }\n",
       "</style>\n",
       "<table border=\"1\" class=\"dataframe\">\n",
       "  <thead>\n",
       "    <tr style=\"text-align: right;\">\n",
       "      <th></th>\n",
       "      <th>time</th>\n",
       "      <th>temperature_2m</th>\n",
       "      <th>wind_speed_80m</th>\n",
       "    </tr>\n",
       "  </thead>\n",
       "  <tbody>\n",
       "    <tr>\n",
       "      <th>0</th>\n",
       "      <td>2025-06-16T00:00</td>\n",
       "      <td>17.5</td>\n",
       "      <td>27.7</td>\n",
       "    </tr>\n",
       "    <tr>\n",
       "      <th>1</th>\n",
       "      <td>2025-06-16T01:00</td>\n",
       "      <td>16.9</td>\n",
       "      <td>24.1</td>\n",
       "    </tr>\n",
       "    <tr>\n",
       "      <th>2</th>\n",
       "      <td>2025-06-16T02:00</td>\n",
       "      <td>16.9</td>\n",
       "      <td>23.7</td>\n",
       "    </tr>\n",
       "    <tr>\n",
       "      <th>3</th>\n",
       "      <td>2025-06-16T03:00</td>\n",
       "      <td>16.8</td>\n",
       "      <td>25.4</td>\n",
       "    </tr>\n",
       "    <tr>\n",
       "      <th>4</th>\n",
       "      <td>2025-06-16T04:00</td>\n",
       "      <td>16.8</td>\n",
       "      <td>29.2</td>\n",
       "    </tr>\n",
       "    <tr>\n",
       "      <th>...</th>\n",
       "      <td>...</td>\n",
       "      <td>...</td>\n",
       "      <td>...</td>\n",
       "    </tr>\n",
       "    <tr>\n",
       "      <th>163</th>\n",
       "      <td>2025-06-22T19:00</td>\n",
       "      <td>26.7</td>\n",
       "      <td>13.7</td>\n",
       "    </tr>\n",
       "    <tr>\n",
       "      <th>164</th>\n",
       "      <td>2025-06-22T20:00</td>\n",
       "      <td>25.4</td>\n",
       "      <td>10.9</td>\n",
       "    </tr>\n",
       "    <tr>\n",
       "      <th>165</th>\n",
       "      <td>2025-06-22T21:00</td>\n",
       "      <td>23.7</td>\n",
       "      <td>12.2</td>\n",
       "    </tr>\n",
       "    <tr>\n",
       "      <th>166</th>\n",
       "      <td>2025-06-22T22:00</td>\n",
       "      <td>22.1</td>\n",
       "      <td>15.5</td>\n",
       "    </tr>\n",
       "    <tr>\n",
       "      <th>167</th>\n",
       "      <td>2025-06-22T23:00</td>\n",
       "      <td>20.9</td>\n",
       "      <td>17.0</td>\n",
       "    </tr>\n",
       "  </tbody>\n",
       "</table>\n",
       "<p>168 rows × 3 columns</p>\n",
       "</div>"
      ],
      "text/plain": [
       "                 time  temperature_2m  wind_speed_80m\n",
       "0    2025-06-16T00:00            17.5            27.7\n",
       "1    2025-06-16T01:00            16.9            24.1\n",
       "2    2025-06-16T02:00            16.9            23.7\n",
       "3    2025-06-16T03:00            16.8            25.4\n",
       "4    2025-06-16T04:00            16.8            29.2\n",
       "..                ...             ...             ...\n",
       "163  2025-06-22T19:00            26.7            13.7\n",
       "164  2025-06-22T20:00            25.4            10.9\n",
       "165  2025-06-22T21:00            23.7            12.2\n",
       "166  2025-06-22T22:00            22.1            15.5\n",
       "167  2025-06-22T23:00            20.9            17.0\n",
       "\n",
       "[168 rows x 3 columns]"
      ]
     },
     "metadata": {},
     "output_type": "display_data"
    },
    {
     "data": {
      "text/plain": [
       "'Мінімальна температура за 3 дні: 14.20'"
      ]
     },
     "metadata": {},
     "output_type": "display_data"
    },
    {
     "data": {
      "text/plain": [
       "'Максимальна температура за 3 дні: 26.40'"
      ]
     },
     "metadata": {},
     "output_type": "display_data"
    },
    {
     "data": {
      "text/plain": [
       "'Середня температура за 3 дні: 20.04'"
      ]
     },
     "metadata": {},
     "output_type": "display_data"
    },
    {
     "data": {
      "text/plain": [
       "'Кількість годин, коли швидкість вітру перевищувала середню: 69'"
      ]
     },
     "metadata": {},
     "output_type": "display_data"
    }
   ],
   "source": [
    "import requests\n",
    "import pandas as pd\n",
    "\n",
    "api_url = requests.get(\"https://api.open-meteo.com/v1/forecast?latitude=52.52&longitude=13.41&hourly=temperature_2m,wind_speed_80m&timezone=Europe%2FLondon\")\n",
    "weather_data = api_url.json()\n",
    "temperature_data = pd.DataFrame(weather_data[\"hourly\"])\n",
    "min_temp = (temperature_data[\"temperature_2m\"].iloc[0:72]).min()\n",
    "max_temp = (temperature_data[\"temperature_2m\"].iloc[0:72]).max()\n",
    "ave_temp = (temperature_data[\"temperature_2m\"].iloc[0:72]).mean()\n",
    "\n",
    "ave_wind = temperature_data[\"wind_speed_80m\"].mean()\n",
    "number_of_hours = 0\n",
    "for number in temperature_data[\"wind_speed_80m\"]:\n",
    "    if number > ave_wind:\n",
    "        number_of_hours += 1\n",
    "\n",
    "display(temperature_data)\n",
    "display(f\"Мінімальна температура за 3 дні: {min_temp:.2f}\")\n",
    "display(f\"Максимальна температура за 3 дні: {max_temp:.2f}\")\n",
    "display(f\"Середня температура за 3 дні: {ave_temp:.2f}\")\n",
    "display(f\"Кількість годин, коли швидкість вітру перевищувала середню: {number_of_hours}\")"
   ]
  }
 ],
 "metadata": {
  "kernelspec": {
   "display_name": "Python 3",
   "language": "python",
   "name": "python3"
  },
  "language_info": {
   "codemirror_mode": {
    "name": "ipython",
    "version": 3
   },
   "file_extension": ".py",
   "mimetype": "text/x-python",
   "name": "python",
   "nbconvert_exporter": "python",
   "pygments_lexer": "ipython3",
   "version": "3.13.3"
  }
 },
 "nbformat": 4,
 "nbformat_minor": 5
}
